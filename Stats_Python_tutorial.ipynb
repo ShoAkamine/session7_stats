{
 "cells": [
  {
   "cell_type": "markdown",
   "metadata": {},
   "source": [
    "# Statistics in Python\n",
    "\n",
    "*IMPRS - Using Python for Cognitive Science (2022). This tutorial is made by Noor Seijdel and based on work by [Sophie Slaats](https://www.mpi.nl/people/slaats-sophie)*\n",
    "\n",
    "Good afternoon! Today we will be working through this tutorial to get familiar with doing statistics in Python. Important note: I am by no means a statistical advisor. I will just show you today how to use a couple of packages to do some statistical tests. Basically, I provide some pointers. When doing analyses on your own data, make your own decisions on which tests to use.\n",
    "The reference guides for the packages we used in this session are here:\n",
    "\n",
    "- [Python's statsistics](https://docs.python.org/3/library/statistics.html) \n",
    "Python’s statistics is a built-in Python library for descriptive statistics. It is not intended to be a competitor to libraries such as NumPy or SciPy or full-featured statistics packages aimed at professional statistics. It is aimed at the level of graphing and scientific calculators. \n",
    "- [Numpy](https://numpy.org/doc/stable/)\n",
    "NumPy is a library for numerical computing, optimized for working with single- and multi-dimensional arrays. This library contains many routines for statistical analysis.\n",
    "- [SciPy Stats](https://docs.scipy.org/doc/scipy/reference/stats.html)\n",
    "SciPy is a library for scientific computing based on NumPy. It offers additional functionality compared to NumPy, including scipy.stats for statistical analysis.\n",
    "- [Statsmodels](https://www.statsmodels.org/stable/index.html) \n",
    "Statsmodels is a Python module that provides classes and functions for the estimation of many different statistical models, as well as for conducting statistical tests, and statistical data exploration. It supports specifying models using R-style formulas and pandas DataFrames. \n",
    "- [Seaborn](https://seaborn.pydata.org/index.html) \n",
    "Seaborn is a Python data visualization library based on matplotlib. It provides a high-level interface for drawing attractive and informative statistical graphics.\n",
    "- [Pandas](https://pandas.pydata.org/)\n",
    "Pandas is a library for numerical computing based on NumPy. It excels in handling labeled data with DataFrame objects.\n",
    "\n",
    "\n",
    "\n",
    "## 0. Importing modules\n",
    "Today we need `math`, `statistics`, `numpy`, `pandas` and `os`.   \n",
    "\n",
    "<font color='green'>**Exerc|ise 1:**</font> Import them below. We have added some other packages for you already.  "
   ]
  },
  {
   "cell_type": "code",
   "execution_count": 1,
   "metadata": {},
   "outputs": [],
   "source": [
    "import scipy.stats as stats\n",
    "import matplotlib.pyplot as plt\n",
    "import seaborn as sns\n",
    "\n",
    "## your code here\n",
    "import math\n",
    "import statistics\n",
    "import numpy as np\n",
    "import pandas as pd\n",
    "import os"
   ]
  },
  {
   "cell_type": "markdown",
   "metadata": {},
   "source": [
    "## 1. Loading the data + descriptives\n",
    "\n",
    "Let's start by getting some data to work with. We can use the participant data from a couple weeks ago! "
   ]
  },
  {
   "cell_type": "code",
   "execution_count": 2,
   "metadata": {},
   "outputs": [
    {
     "data": {
      "text/html": [
       "<div>\n",
       "<style scoped>\n",
       "    .dataframe tbody tr th:only-of-type {\n",
       "        vertical-align: middle;\n",
       "    }\n",
       "\n",
       "    .dataframe tbody tr th {\n",
       "        vertical-align: top;\n",
       "    }\n",
       "\n",
       "    .dataframe thead th {\n",
       "        text-align: right;\n",
       "    }\n",
       "</style>\n",
       "<table border=\"1\" class=\"dataframe\">\n",
       "  <thead>\n",
       "    <tr style=\"text-align: right;\">\n",
       "      <th></th>\n",
       "      <th>first_name</th>\n",
       "      <th>last_name</th>\n",
       "      <th>age</th>\n",
       "      <th>sex</th>\n",
       "      <th>id</th>\n",
       "    </tr>\n",
       "  </thead>\n",
       "  <tbody>\n",
       "    <tr>\n",
       "      <th>0</th>\n",
       "      <td>Stacy</td>\n",
       "      <td>Burton</td>\n",
       "      <td>33</td>\n",
       "      <td>male</td>\n",
       "      <td>83633</td>\n",
       "    </tr>\n",
       "    <tr>\n",
       "      <th>1</th>\n",
       "      <td>Jose</td>\n",
       "      <td>Griffith</td>\n",
       "      <td>23</td>\n",
       "      <td>female</td>\n",
       "      <td>82441</td>\n",
       "    </tr>\n",
       "    <tr>\n",
       "      <th>2</th>\n",
       "      <td>Sharon</td>\n",
       "      <td>Kemp</td>\n",
       "      <td>25</td>\n",
       "      <td>female</td>\n",
       "      <td>89186</td>\n",
       "    </tr>\n",
       "    <tr>\n",
       "      <th>3</th>\n",
       "      <td>Lacey</td>\n",
       "      <td>Wiggins</td>\n",
       "      <td>22</td>\n",
       "      <td>female</td>\n",
       "      <td>37321</td>\n",
       "    </tr>\n",
       "    <tr>\n",
       "      <th>4</th>\n",
       "      <td>Darrell</td>\n",
       "      <td>Davis</td>\n",
       "      <td>18</td>\n",
       "      <td>male</td>\n",
       "      <td>24639</td>\n",
       "    </tr>\n",
       "    <tr>\n",
       "      <th>5</th>\n",
       "      <td>Monique</td>\n",
       "      <td>Shah</td>\n",
       "      <td>25</td>\n",
       "      <td>male</td>\n",
       "      <td>52845</td>\n",
       "    </tr>\n",
       "    <tr>\n",
       "      <th>6</th>\n",
       "      <td>Brian</td>\n",
       "      <td>Floyd</td>\n",
       "      <td>22</td>\n",
       "      <td>female</td>\n",
       "      <td>73722</td>\n",
       "    </tr>\n",
       "    <tr>\n",
       "      <th>7</th>\n",
       "      <td>Cassandra</td>\n",
       "      <td>Anderson</td>\n",
       "      <td>18</td>\n",
       "      <td>female</td>\n",
       "      <td>59785</td>\n",
       "    </tr>\n",
       "    <tr>\n",
       "      <th>8</th>\n",
       "      <td>Richard</td>\n",
       "      <td>Monroe</td>\n",
       "      <td>24</td>\n",
       "      <td>female</td>\n",
       "      <td>83312</td>\n",
       "    </tr>\n",
       "    <tr>\n",
       "      <th>9</th>\n",
       "      <td>Natalie</td>\n",
       "      <td>Newton</td>\n",
       "      <td>23</td>\n",
       "      <td>female</td>\n",
       "      <td>90709</td>\n",
       "    </tr>\n",
       "  </tbody>\n",
       "</table>\n",
       "</div>"
      ],
      "text/plain": [
       "  first_name last_name  age     sex     id\n",
       "0      Stacy    Burton   33    male  83633\n",
       "1       Jose  Griffith   23  female  82441\n",
       "2     Sharon      Kemp   25  female  89186\n",
       "3      Lacey   Wiggins   22  female  37321\n",
       "4    Darrell     Davis   18    male  24639\n",
       "5    Monique      Shah   25    male  52845\n",
       "6      Brian     Floyd   22  female  73722\n",
       "7  Cassandra  Anderson   18  female  59785\n",
       "8    Richard    Monroe   24  female  83312\n",
       "9    Natalie    Newton   23  female  90709"
      ]
     },
     "execution_count": 2,
     "metadata": {},
     "output_type": "execute_result"
    }
   ],
   "source": [
    "path = '/Users/shoakamine/Google Drive/MPI/IMPRS/Courses/PythonForCognitiveResearch/Session7/session7_stats'\n",
    "\n",
    "# load the data we used previously\n",
    "participants = pd.read_csv(os.path.join(path, 'participants.csv'))\n",
    "participants"
   ]
  },
  {
   "cell_type": "markdown",
   "metadata": {},
   "source": [
    "Okay, so that's the overview of our participants.. Now for each participant we have a separate file containing the data. Let's use a for loop to get all data in one structure. \n",
    "\n",
    "<font color='green'>**Exercise 2:**</font> Use a for-loop to go through the participant list and append the data from each participant to a dataframe `trials`\n",
    "\n",
    "(Hint: we did this in the preprocessing notebook from session 5!) \n"
   ]
  },
  {
   "cell_type": "code",
   "execution_count": 4,
   "metadata": {},
   "outputs": [
    {
     "name": "stderr",
     "output_type": "stream",
     "text": [
      "/var/folders/yr/vf28v1mn2y1ck9bp7ljl0p8h0000gn/T/ipykernel_83309/2143055094.py:7: FutureWarning: The frame.append method is deprecated and will be removed from pandas in a future version. Use pandas.concat instead.\n",
      "  trials = trials.append(participant_data)\n",
      "/var/folders/yr/vf28v1mn2y1ck9bp7ljl0p8h0000gn/T/ipykernel_83309/2143055094.py:7: FutureWarning: The frame.append method is deprecated and will be removed from pandas in a future version. Use pandas.concat instead.\n",
      "  trials = trials.append(participant_data)\n",
      "/var/folders/yr/vf28v1mn2y1ck9bp7ljl0p8h0000gn/T/ipykernel_83309/2143055094.py:7: FutureWarning: The frame.append method is deprecated and will be removed from pandas in a future version. Use pandas.concat instead.\n",
      "  trials = trials.append(participant_data)\n",
      "/var/folders/yr/vf28v1mn2y1ck9bp7ljl0p8h0000gn/T/ipykernel_83309/2143055094.py:7: FutureWarning: The frame.append method is deprecated and will be removed from pandas in a future version. Use pandas.concat instead.\n",
      "  trials = trials.append(participant_data)\n",
      "/var/folders/yr/vf28v1mn2y1ck9bp7ljl0p8h0000gn/T/ipykernel_83309/2143055094.py:7: FutureWarning: The frame.append method is deprecated and will be removed from pandas in a future version. Use pandas.concat instead.\n",
      "  trials = trials.append(participant_data)\n",
      "/var/folders/yr/vf28v1mn2y1ck9bp7ljl0p8h0000gn/T/ipykernel_83309/2143055094.py:7: FutureWarning: The frame.append method is deprecated and will be removed from pandas in a future version. Use pandas.concat instead.\n",
      "  trials = trials.append(participant_data)\n",
      "/var/folders/yr/vf28v1mn2y1ck9bp7ljl0p8h0000gn/T/ipykernel_83309/2143055094.py:7: FutureWarning: The frame.append method is deprecated and will be removed from pandas in a future version. Use pandas.concat instead.\n",
      "  trials = trials.append(participant_data)\n",
      "/var/folders/yr/vf28v1mn2y1ck9bp7ljl0p8h0000gn/T/ipykernel_83309/2143055094.py:7: FutureWarning: The frame.append method is deprecated and will be removed from pandas in a future version. Use pandas.concat instead.\n",
      "  trials = trials.append(participant_data)\n",
      "/var/folders/yr/vf28v1mn2y1ck9bp7ljl0p8h0000gn/T/ipykernel_83309/2143055094.py:7: FutureWarning: The frame.append method is deprecated and will be removed from pandas in a future version. Use pandas.concat instead.\n",
      "  trials = trials.append(participant_data)\n",
      "/var/folders/yr/vf28v1mn2y1ck9bp7ljl0p8h0000gn/T/ipykernel_83309/2143055094.py:7: FutureWarning: The frame.append method is deprecated and will be removed from pandas in a future version. Use pandas.concat instead.\n",
      "  trials = trials.append(participant_data)\n"
     ]
    },
    {
     "data": {
      "text/html": [
       "<div>\n",
       "<style scoped>\n",
       "    .dataframe tbody tr th:only-of-type {\n",
       "        vertical-align: middle;\n",
       "    }\n",
       "\n",
       "    .dataframe tbody tr th {\n",
       "        vertical-align: top;\n",
       "    }\n",
       "\n",
       "    .dataframe thead th {\n",
       "        text-align: right;\n",
       "    }\n",
       "</style>\n",
       "<table border=\"1\" class=\"dataframe\">\n",
       "  <thead>\n",
       "    <tr style=\"text-align: right;\">\n",
       "      <th></th>\n",
       "      <th>Unnamed: 0</th>\n",
       "      <th>id</th>\n",
       "      <th>condition</th>\n",
       "      <th>RT</th>\n",
       "    </tr>\n",
       "  </thead>\n",
       "  <tbody>\n",
       "    <tr>\n",
       "      <th>0</th>\n",
       "      <td>0</td>\n",
       "      <td>83633</td>\n",
       "      <td>condition_a</td>\n",
       "      <td>711.093867</td>\n",
       "    </tr>\n",
       "    <tr>\n",
       "      <th>1</th>\n",
       "      <td>1</td>\n",
       "      <td>83633</td>\n",
       "      <td>baseline</td>\n",
       "      <td>351.301881</td>\n",
       "    </tr>\n",
       "    <tr>\n",
       "      <th>2</th>\n",
       "      <td>2</td>\n",
       "      <td>83633</td>\n",
       "      <td>condition_a</td>\n",
       "      <td>720.382681</td>\n",
       "    </tr>\n",
       "    <tr>\n",
       "      <th>3</th>\n",
       "      <td>3</td>\n",
       "      <td>83633</td>\n",
       "      <td>condition_a</td>\n",
       "      <td>329.828212</td>\n",
       "    </tr>\n",
       "    <tr>\n",
       "      <th>4</th>\n",
       "      <td>4</td>\n",
       "      <td>83633</td>\n",
       "      <td>baseline</td>\n",
       "      <td>188.586183</td>\n",
       "    </tr>\n",
       "    <tr>\n",
       "      <th>...</th>\n",
       "      <td>...</td>\n",
       "      <td>...</td>\n",
       "      <td>...</td>\n",
       "      <td>...</td>\n",
       "    </tr>\n",
       "    <tr>\n",
       "      <th>115</th>\n",
       "      <td>115</td>\n",
       "      <td>90709</td>\n",
       "      <td>baseline</td>\n",
       "      <td>399.521017</td>\n",
       "    </tr>\n",
       "    <tr>\n",
       "      <th>116</th>\n",
       "      <td>116</td>\n",
       "      <td>90709</td>\n",
       "      <td>condition_b</td>\n",
       "      <td>174.347050</td>\n",
       "    </tr>\n",
       "    <tr>\n",
       "      <th>117</th>\n",
       "      <td>117</td>\n",
       "      <td>90709</td>\n",
       "      <td>baseline</td>\n",
       "      <td>160.265914</td>\n",
       "    </tr>\n",
       "    <tr>\n",
       "      <th>118</th>\n",
       "      <td>118</td>\n",
       "      <td>90709</td>\n",
       "      <td>baseline</td>\n",
       "      <td>357.141627</td>\n",
       "    </tr>\n",
       "    <tr>\n",
       "      <th>119</th>\n",
       "      <td>119</td>\n",
       "      <td>90709</td>\n",
       "      <td>condition_a</td>\n",
       "      <td>500.227344</td>\n",
       "    </tr>\n",
       "  </tbody>\n",
       "</table>\n",
       "<p>1200 rows × 4 columns</p>\n",
       "</div>"
      ],
      "text/plain": [
       "     Unnamed: 0     id    condition          RT\n",
       "0             0  83633  condition_a  711.093867\n",
       "1             1  83633     baseline  351.301881\n",
       "2             2  83633  condition_a  720.382681\n",
       "3             3  83633  condition_a  329.828212\n",
       "4             4  83633     baseline  188.586183\n",
       "..          ...    ...          ...         ...\n",
       "115         115  90709     baseline  399.521017\n",
       "116         116  90709  condition_b  174.347050\n",
       "117         117  90709     baseline  160.265914\n",
       "118         118  90709     baseline  357.141627\n",
       "119         119  90709  condition_a  500.227344\n",
       "\n",
       "[1200 rows x 4 columns]"
      ]
     },
     "execution_count": 4,
     "metadata": {},
     "output_type": "execute_result"
    }
   ],
   "source": [
    "# use a for-loop to go through the participant list and load the data\n",
    "trials = pd.DataFrame()\n",
    "\n",
    "## your code here \n",
    "for participant_id in participants['id']:\n",
    "    participant_data = pd.read_csv(f'participants/{participant_id}.csv')\n",
    "    trials = trials.append(participant_data)"
   ]
  },
  {
   "cell_type": "code",
   "execution_count": 5,
   "metadata": {},
   "outputs": [
    {
     "data": {
      "text/html": [
       "<div>\n",
       "<style scoped>\n",
       "    .dataframe tbody tr th:only-of-type {\n",
       "        vertical-align: middle;\n",
       "    }\n",
       "\n",
       "    .dataframe tbody tr th {\n",
       "        vertical-align: top;\n",
       "    }\n",
       "\n",
       "    .dataframe thead th {\n",
       "        text-align: right;\n",
       "    }\n",
       "</style>\n",
       "<table border=\"1\" class=\"dataframe\">\n",
       "  <thead>\n",
       "    <tr style=\"text-align: right;\">\n",
       "      <th></th>\n",
       "      <th>Unnamed: 0</th>\n",
       "      <th>id</th>\n",
       "      <th>condition</th>\n",
       "      <th>RT</th>\n",
       "    </tr>\n",
       "  </thead>\n",
       "  <tbody>\n",
       "    <tr>\n",
       "      <th>0</th>\n",
       "      <td>0</td>\n",
       "      <td>83633</td>\n",
       "      <td>condition_a</td>\n",
       "      <td>711.093867</td>\n",
       "    </tr>\n",
       "    <tr>\n",
       "      <th>1</th>\n",
       "      <td>1</td>\n",
       "      <td>83633</td>\n",
       "      <td>baseline</td>\n",
       "      <td>351.301881</td>\n",
       "    </tr>\n",
       "    <tr>\n",
       "      <th>2</th>\n",
       "      <td>2</td>\n",
       "      <td>83633</td>\n",
       "      <td>condition_a</td>\n",
       "      <td>720.382681</td>\n",
       "    </tr>\n",
       "    <tr>\n",
       "      <th>3</th>\n",
       "      <td>3</td>\n",
       "      <td>83633</td>\n",
       "      <td>condition_a</td>\n",
       "      <td>329.828212</td>\n",
       "    </tr>\n",
       "    <tr>\n",
       "      <th>4</th>\n",
       "      <td>4</td>\n",
       "      <td>83633</td>\n",
       "      <td>baseline</td>\n",
       "      <td>188.586183</td>\n",
       "    </tr>\n",
       "    <tr>\n",
       "      <th>...</th>\n",
       "      <td>...</td>\n",
       "      <td>...</td>\n",
       "      <td>...</td>\n",
       "      <td>...</td>\n",
       "    </tr>\n",
       "    <tr>\n",
       "      <th>110</th>\n",
       "      <td>110</td>\n",
       "      <td>90709</td>\n",
       "      <td>baseline</td>\n",
       "      <td>406.836948</td>\n",
       "    </tr>\n",
       "    <tr>\n",
       "      <th>111</th>\n",
       "      <td>111</td>\n",
       "      <td>90709</td>\n",
       "      <td>condition_a</td>\n",
       "      <td>405.269311</td>\n",
       "    </tr>\n",
       "    <tr>\n",
       "      <th>112</th>\n",
       "      <td>112</td>\n",
       "      <td>90709</td>\n",
       "      <td>condition_a</td>\n",
       "      <td>433.099059</td>\n",
       "    </tr>\n",
       "    <tr>\n",
       "      <th>113</th>\n",
       "      <td>113</td>\n",
       "      <td>90709</td>\n",
       "      <td>baseline</td>\n",
       "      <td>406.302224</td>\n",
       "    </tr>\n",
       "    <tr>\n",
       "      <th>114</th>\n",
       "      <td>114</td>\n",
       "      <td>90709</td>\n",
       "      <td>condition_b</td>\n",
       "      <td>518.342752</td>\n",
       "    </tr>\n",
       "  </tbody>\n",
       "</table>\n",
       "<p>1195 rows × 4 columns</p>\n",
       "</div>"
      ],
      "text/plain": [
       "     Unnamed: 0     id    condition          RT\n",
       "0             0  83633  condition_a  711.093867\n",
       "1             1  83633     baseline  351.301881\n",
       "2             2  83633  condition_a  720.382681\n",
       "3             3  83633  condition_a  329.828212\n",
       "4             4  83633     baseline  188.586183\n",
       "..          ...    ...          ...         ...\n",
       "110         110  90709     baseline  406.836948\n",
       "111         111  90709  condition_a  405.269311\n",
       "112         112  90709  condition_a  433.099059\n",
       "113         113  90709     baseline  406.302224\n",
       "114         114  90709  condition_b  518.342752\n",
       "\n",
       "[1195 rows x 4 columns]"
      ]
     },
     "execution_count": 5,
     "metadata": {},
     "output_type": "execute_result"
    }
   ],
   "source": [
    "trials.head(-5)"
   ]
  },
  {
   "cell_type": "markdown",
   "metadata": {},
   "source": [
    "As we've also seen before, based on their \"id\" we can merge the participant information with their data (note that we would actually rarely do this in real life, to keep the data anonymous). "
   ]
  },
  {
   "cell_type": "code",
   "execution_count": 6,
   "metadata": {},
   "outputs": [
    {
     "data": {
      "text/html": [
       "<div>\n",
       "<style scoped>\n",
       "    .dataframe tbody tr th:only-of-type {\n",
       "        vertical-align: middle;\n",
       "    }\n",
       "\n",
       "    .dataframe tbody tr th {\n",
       "        vertical-align: top;\n",
       "    }\n",
       "\n",
       "    .dataframe thead th {\n",
       "        text-align: right;\n",
       "    }\n",
       "</style>\n",
       "<table border=\"1\" class=\"dataframe\">\n",
       "  <thead>\n",
       "    <tr style=\"text-align: right;\">\n",
       "      <th></th>\n",
       "      <th>trial_order</th>\n",
       "      <th>id</th>\n",
       "      <th>condition</th>\n",
       "      <th>RT</th>\n",
       "      <th>first_name</th>\n",
       "      <th>last_name</th>\n",
       "      <th>age</th>\n",
       "      <th>sex</th>\n",
       "    </tr>\n",
       "  </thead>\n",
       "  <tbody>\n",
       "    <tr>\n",
       "      <th>0</th>\n",
       "      <td>0</td>\n",
       "      <td>83633</td>\n",
       "      <td>condition_a</td>\n",
       "      <td>711.093867</td>\n",
       "      <td>Stacy</td>\n",
       "      <td>Burton</td>\n",
       "      <td>33</td>\n",
       "      <td>male</td>\n",
       "    </tr>\n",
       "    <tr>\n",
       "      <th>1</th>\n",
       "      <td>1</td>\n",
       "      <td>83633</td>\n",
       "      <td>baseline</td>\n",
       "      <td>351.301881</td>\n",
       "      <td>Stacy</td>\n",
       "      <td>Burton</td>\n",
       "      <td>33</td>\n",
       "      <td>male</td>\n",
       "    </tr>\n",
       "    <tr>\n",
       "      <th>2</th>\n",
       "      <td>2</td>\n",
       "      <td>83633</td>\n",
       "      <td>condition_a</td>\n",
       "      <td>720.382681</td>\n",
       "      <td>Stacy</td>\n",
       "      <td>Burton</td>\n",
       "      <td>33</td>\n",
       "      <td>male</td>\n",
       "    </tr>\n",
       "    <tr>\n",
       "      <th>3</th>\n",
       "      <td>3</td>\n",
       "      <td>83633</td>\n",
       "      <td>condition_a</td>\n",
       "      <td>329.828212</td>\n",
       "      <td>Stacy</td>\n",
       "      <td>Burton</td>\n",
       "      <td>33</td>\n",
       "      <td>male</td>\n",
       "    </tr>\n",
       "    <tr>\n",
       "      <th>4</th>\n",
       "      <td>4</td>\n",
       "      <td>83633</td>\n",
       "      <td>baseline</td>\n",
       "      <td>188.586183</td>\n",
       "      <td>Stacy</td>\n",
       "      <td>Burton</td>\n",
       "      <td>33</td>\n",
       "      <td>male</td>\n",
       "    </tr>\n",
       "    <tr>\n",
       "      <th>...</th>\n",
       "      <td>...</td>\n",
       "      <td>...</td>\n",
       "      <td>...</td>\n",
       "      <td>...</td>\n",
       "      <td>...</td>\n",
       "      <td>...</td>\n",
       "      <td>...</td>\n",
       "      <td>...</td>\n",
       "    </tr>\n",
       "    <tr>\n",
       "      <th>895</th>\n",
       "      <td>55</td>\n",
       "      <td>59785</td>\n",
       "      <td>condition_a</td>\n",
       "      <td>1343.532465</td>\n",
       "      <td>Cassandra</td>\n",
       "      <td>Anderson</td>\n",
       "      <td>18</td>\n",
       "      <td>female</td>\n",
       "    </tr>\n",
       "    <tr>\n",
       "      <th>896</th>\n",
       "      <td>56</td>\n",
       "      <td>59785</td>\n",
       "      <td>condition_b</td>\n",
       "      <td>345.353378</td>\n",
       "      <td>Cassandra</td>\n",
       "      <td>Anderson</td>\n",
       "      <td>18</td>\n",
       "      <td>female</td>\n",
       "    </tr>\n",
       "    <tr>\n",
       "      <th>897</th>\n",
       "      <td>57</td>\n",
       "      <td>59785</td>\n",
       "      <td>condition_b</td>\n",
       "      <td>235.146851</td>\n",
       "      <td>Cassandra</td>\n",
       "      <td>Anderson</td>\n",
       "      <td>18</td>\n",
       "      <td>female</td>\n",
       "    </tr>\n",
       "    <tr>\n",
       "      <th>898</th>\n",
       "      <td>58</td>\n",
       "      <td>59785</td>\n",
       "      <td>condition_b</td>\n",
       "      <td>578.310077</td>\n",
       "      <td>Cassandra</td>\n",
       "      <td>Anderson</td>\n",
       "      <td>18</td>\n",
       "      <td>female</td>\n",
       "    </tr>\n",
       "    <tr>\n",
       "      <th>899</th>\n",
       "      <td>59</td>\n",
       "      <td>59785</td>\n",
       "      <td>condition_a</td>\n",
       "      <td>546.952412</td>\n",
       "      <td>Cassandra</td>\n",
       "      <td>Anderson</td>\n",
       "      <td>18</td>\n",
       "      <td>female</td>\n",
       "    </tr>\n",
       "  </tbody>\n",
       "</table>\n",
       "<p>900 rows × 8 columns</p>\n",
       "</div>"
      ],
      "text/plain": [
       "     trial_order     id    condition           RT first_name last_name  age  \\\n",
       "0              0  83633  condition_a   711.093867      Stacy    Burton   33   \n",
       "1              1  83633     baseline   351.301881      Stacy    Burton   33   \n",
       "2              2  83633  condition_a   720.382681      Stacy    Burton   33   \n",
       "3              3  83633  condition_a   329.828212      Stacy    Burton   33   \n",
       "4              4  83633     baseline   188.586183      Stacy    Burton   33   \n",
       "..           ...    ...          ...          ...        ...       ...  ...   \n",
       "895           55  59785  condition_a  1343.532465  Cassandra  Anderson   18   \n",
       "896           56  59785  condition_b   345.353378  Cassandra  Anderson   18   \n",
       "897           57  59785  condition_b   235.146851  Cassandra  Anderson   18   \n",
       "898           58  59785  condition_b   578.310077  Cassandra  Anderson   18   \n",
       "899           59  59785  condition_a   546.952412  Cassandra  Anderson   18   \n",
       "\n",
       "        sex  \n",
       "0      male  \n",
       "1      male  \n",
       "2      male  \n",
       "3      male  \n",
       "4      male  \n",
       "..      ...  \n",
       "895  female  \n",
       "896  female  \n",
       "897  female  \n",
       "898  female  \n",
       "899  female  \n",
       "\n",
       "[900 rows x 8 columns]"
      ]
     },
     "execution_count": 6,
     "metadata": {},
     "output_type": "execute_result"
    }
   ],
   "source": [
    "# merge participant and trial data\n",
    "trials = trials.merge(participants, on='id')\n",
    "trials.rename(columns={'Unnamed: 0': 'trial_order'}, inplace=True)\n",
    "trials.head(-300)"
   ]
  },
  {
   "cell_type": "markdown",
   "metadata": {},
   "source": [
    "When doing data analyses you should always check your data, to make sure no weird things are in there. Quite often, your data will contain NaN values (e.g. when a participant did not press the response button after a trial, or when they did not fill in a certain question etc.). Let's simulate such a situation by adding some NaN values to our data:"
   ]
  },
  {
   "cell_type": "code",
   "execution_count": 7,
   "metadata": {},
   "outputs": [
    {
     "data": {
      "text/html": [
       "<div>\n",
       "<style scoped>\n",
       "    .dataframe tbody tr th:only-of-type {\n",
       "        vertical-align: middle;\n",
       "    }\n",
       "\n",
       "    .dataframe tbody tr th {\n",
       "        vertical-align: top;\n",
       "    }\n",
       "\n",
       "    .dataframe thead th {\n",
       "        text-align: right;\n",
       "    }\n",
       "</style>\n",
       "<table border=\"1\" class=\"dataframe\">\n",
       "  <thead>\n",
       "    <tr style=\"text-align: right;\">\n",
       "      <th></th>\n",
       "      <th>trial_order</th>\n",
       "      <th>id</th>\n",
       "      <th>condition</th>\n",
       "      <th>RT</th>\n",
       "      <th>first_name</th>\n",
       "      <th>last_name</th>\n",
       "      <th>age</th>\n",
       "      <th>sex</th>\n",
       "    </tr>\n",
       "  </thead>\n",
       "  <tbody>\n",
       "    <tr>\n",
       "      <th>0</th>\n",
       "      <td>0</td>\n",
       "      <td>83633</td>\n",
       "      <td>condition_a</td>\n",
       "      <td>711.093867</td>\n",
       "      <td>Stacy</td>\n",
       "      <td>Burton</td>\n",
       "      <td>33</td>\n",
       "      <td>male</td>\n",
       "    </tr>\n",
       "    <tr>\n",
       "      <th>1</th>\n",
       "      <td>1</td>\n",
       "      <td>83633</td>\n",
       "      <td>baseline</td>\n",
       "      <td>351.301881</td>\n",
       "      <td>Stacy</td>\n",
       "      <td>Burton</td>\n",
       "      <td>33</td>\n",
       "      <td>male</td>\n",
       "    </tr>\n",
       "    <tr>\n",
       "      <th>2</th>\n",
       "      <td>2</td>\n",
       "      <td>83633</td>\n",
       "      <td>condition_a</td>\n",
       "      <td>720.382681</td>\n",
       "      <td>Stacy</td>\n",
       "      <td>Burton</td>\n",
       "      <td>33</td>\n",
       "      <td>male</td>\n",
       "    </tr>\n",
       "    <tr>\n",
       "      <th>3</th>\n",
       "      <td>3</td>\n",
       "      <td>83633</td>\n",
       "      <td>condition_a</td>\n",
       "      <td>329.828212</td>\n",
       "      <td>Stacy</td>\n",
       "      <td>Burton</td>\n",
       "      <td>33</td>\n",
       "      <td>male</td>\n",
       "    </tr>\n",
       "    <tr>\n",
       "      <th>4</th>\n",
       "      <td>4</td>\n",
       "      <td>83633</td>\n",
       "      <td>baseline</td>\n",
       "      <td>188.586183</td>\n",
       "      <td>Stacy</td>\n",
       "      <td>Burton</td>\n",
       "      <td>33</td>\n",
       "      <td>male</td>\n",
       "    </tr>\n",
       "    <tr>\n",
       "      <th>...</th>\n",
       "      <td>...</td>\n",
       "      <td>...</td>\n",
       "      <td>...</td>\n",
       "      <td>...</td>\n",
       "      <td>...</td>\n",
       "      <td>...</td>\n",
       "      <td>...</td>\n",
       "      <td>...</td>\n",
       "    </tr>\n",
       "    <tr>\n",
       "      <th>1190</th>\n",
       "      <td>110</td>\n",
       "      <td>90709</td>\n",
       "      <td>baseline</td>\n",
       "      <td>406.836948</td>\n",
       "      <td>Natalie</td>\n",
       "      <td>Newton</td>\n",
       "      <td>23</td>\n",
       "      <td>female</td>\n",
       "    </tr>\n",
       "    <tr>\n",
       "      <th>1191</th>\n",
       "      <td>111</td>\n",
       "      <td>90709</td>\n",
       "      <td>condition_a</td>\n",
       "      <td>405.269311</td>\n",
       "      <td>Natalie</td>\n",
       "      <td>Newton</td>\n",
       "      <td>23</td>\n",
       "      <td>female</td>\n",
       "    </tr>\n",
       "    <tr>\n",
       "      <th>1192</th>\n",
       "      <td>112</td>\n",
       "      <td>90709</td>\n",
       "      <td>condition_a</td>\n",
       "      <td>433.099059</td>\n",
       "      <td>Natalie</td>\n",
       "      <td>Newton</td>\n",
       "      <td>23</td>\n",
       "      <td>female</td>\n",
       "    </tr>\n",
       "    <tr>\n",
       "      <th>1193</th>\n",
       "      <td>113</td>\n",
       "      <td>90709</td>\n",
       "      <td>baseline</td>\n",
       "      <td>406.302224</td>\n",
       "      <td>Natalie</td>\n",
       "      <td>Newton</td>\n",
       "      <td>23</td>\n",
       "      <td>female</td>\n",
       "    </tr>\n",
       "    <tr>\n",
       "      <th>1194</th>\n",
       "      <td>114</td>\n",
       "      <td>90709</td>\n",
       "      <td>condition_b</td>\n",
       "      <td>518.342752</td>\n",
       "      <td>Natalie</td>\n",
       "      <td>Newton</td>\n",
       "      <td>23</td>\n",
       "      <td>female</td>\n",
       "    </tr>\n",
       "  </tbody>\n",
       "</table>\n",
       "<p>1195 rows × 8 columns</p>\n",
       "</div>"
      ],
      "text/plain": [
       "      trial_order     id    condition          RT first_name last_name  age  \\\n",
       "0               0  83633  condition_a  711.093867      Stacy    Burton   33   \n",
       "1               1  83633     baseline  351.301881      Stacy    Burton   33   \n",
       "2               2  83633  condition_a  720.382681      Stacy    Burton   33   \n",
       "3               3  83633  condition_a  329.828212      Stacy    Burton   33   \n",
       "4               4  83633     baseline  188.586183      Stacy    Burton   33   \n",
       "...           ...    ...          ...         ...        ...       ...  ...   \n",
       "1190          110  90709     baseline  406.836948    Natalie    Newton   23   \n",
       "1191          111  90709  condition_a  405.269311    Natalie    Newton   23   \n",
       "1192          112  90709  condition_a  433.099059    Natalie    Newton   23   \n",
       "1193          113  90709     baseline  406.302224    Natalie    Newton   23   \n",
       "1194          114  90709  condition_b  518.342752    Natalie    Newton   23   \n",
       "\n",
       "         sex  \n",
       "0       male  \n",
       "1       male  \n",
       "2       male  \n",
       "3       male  \n",
       "4       male  \n",
       "...      ...  \n",
       "1190  female  \n",
       "1191  female  \n",
       "1192  female  \n",
       "1193  female  \n",
       "1194  female  \n",
       "\n",
       "[1195 rows x 8 columns]"
      ]
     },
     "execution_count": 7,
     "metadata": {},
     "output_type": "execute_result"
    }
   ],
   "source": [
    "no_of_trials = np.shape(trials)[0]\n",
    "nan_indices = np.random.permutation(no_of_trials)[0:60]\n",
    "trials_NA = trials.copy()\n",
    "\n",
    "# replace values using pd.loc: \n",
    "#function allows you to access a group of rows and columns by label(s)\n",
    "trials_NA.loc[nan_indices, 'RT'] = np.nan\n",
    "trials_NA.head(-5)"
   ]
  },
  {
   "cell_type": "markdown",
   "metadata": {},
   "source": [
    "#### Look at the data summary"
   ]
  },
  {
   "cell_type": "code",
   "execution_count": 8,
   "metadata": {},
   "outputs": [
    {
     "data": {
      "text/html": [
       "<div>\n",
       "<style scoped>\n",
       "    .dataframe tbody tr th:only-of-type {\n",
       "        vertical-align: middle;\n",
       "    }\n",
       "\n",
       "    .dataframe tbody tr th {\n",
       "        vertical-align: top;\n",
       "    }\n",
       "\n",
       "    .dataframe thead th {\n",
       "        text-align: right;\n",
       "    }\n",
       "</style>\n",
       "<table border=\"1\" class=\"dataframe\">\n",
       "  <thead>\n",
       "    <tr style=\"text-align: right;\">\n",
       "      <th></th>\n",
       "      <th>mean_RT</th>\n",
       "      <th>median_RT</th>\n",
       "      <th>std_RT</th>\n",
       "      <th>mean_age</th>\n",
       "    </tr>\n",
       "    <tr>\n",
       "      <th>condition</th>\n",
       "      <th></th>\n",
       "      <th></th>\n",
       "      <th></th>\n",
       "      <th></th>\n",
       "    </tr>\n",
       "  </thead>\n",
       "  <tbody>\n",
       "    <tr>\n",
       "      <th>baseline</th>\n",
       "      <td>481.484448</td>\n",
       "      <td>405.965007</td>\n",
       "      <td>283.582387</td>\n",
       "      <td>23.3</td>\n",
       "    </tr>\n",
       "    <tr>\n",
       "      <th>condition_a</th>\n",
       "      <td>759.387950</td>\n",
       "      <td>634.627644</td>\n",
       "      <td>476.263170</td>\n",
       "      <td>23.3</td>\n",
       "    </tr>\n",
       "    <tr>\n",
       "      <th>condition_b</th>\n",
       "      <td>452.634481</td>\n",
       "      <td>372.003101</td>\n",
       "      <td>301.176629</td>\n",
       "      <td>23.3</td>\n",
       "    </tr>\n",
       "  </tbody>\n",
       "</table>\n",
       "</div>"
      ],
      "text/plain": [
       "                mean_RT   median_RT      std_RT  mean_age\n",
       "condition                                                \n",
       "baseline     481.484448  405.965007  283.582387      23.3\n",
       "condition_a  759.387950  634.627644  476.263170      23.3\n",
       "condition_b  452.634481  372.003101  301.176629      23.3"
      ]
     },
     "execution_count": 8,
     "metadata": {},
     "output_type": "execute_result"
    }
   ],
   "source": [
    "summary = trials.groupby(by='condition').aggregate(\n",
    "    mean_RT=pd.NamedAgg('RT', np.mean),\n",
    "    median_RT=pd.NamedAgg('RT', np.median),\n",
    "    std_RT=pd.NamedAgg('RT', np.std),\n",
    "    mean_age=pd.NamedAgg('age', np.mean)\n",
    ")\n",
    "\n",
    "summary"
   ]
  },
  {
   "cell_type": "code",
   "execution_count": 9,
   "metadata": {},
   "outputs": [
    {
     "data": {
      "text/html": [
       "<div>\n",
       "<style scoped>\n",
       "    .dataframe tbody tr th:only-of-type {\n",
       "        vertical-align: middle;\n",
       "    }\n",
       "\n",
       "    .dataframe tbody tr th {\n",
       "        vertical-align: top;\n",
       "    }\n",
       "\n",
       "    .dataframe thead th {\n",
       "        text-align: right;\n",
       "    }\n",
       "</style>\n",
       "<table border=\"1\" class=\"dataframe\">\n",
       "  <thead>\n",
       "    <tr style=\"text-align: right;\">\n",
       "      <th></th>\n",
       "      <th>condition</th>\n",
       "      <th>mean_RT</th>\n",
       "      <th>median_RT</th>\n",
       "      <th>std_RT</th>\n",
       "      <th>mean_age</th>\n",
       "    </tr>\n",
       "  </thead>\n",
       "  <tbody>\n",
       "    <tr>\n",
       "      <th>0</th>\n",
       "      <td>baseline</td>\n",
       "      <td>481.484448</td>\n",
       "      <td>405.965007</td>\n",
       "      <td>283.582387</td>\n",
       "      <td>23.3</td>\n",
       "    </tr>\n",
       "    <tr>\n",
       "      <th>1</th>\n",
       "      <td>condition_a</td>\n",
       "      <td>759.387950</td>\n",
       "      <td>634.627644</td>\n",
       "      <td>476.263170</td>\n",
       "      <td>23.3</td>\n",
       "    </tr>\n",
       "    <tr>\n",
       "      <th>2</th>\n",
       "      <td>condition_b</td>\n",
       "      <td>452.634481</td>\n",
       "      <td>372.003101</td>\n",
       "      <td>301.176629</td>\n",
       "      <td>23.3</td>\n",
       "    </tr>\n",
       "  </tbody>\n",
       "</table>\n",
       "</div>"
      ],
      "text/plain": [
       "     condition     mean_RT   median_RT      std_RT  mean_age\n",
       "0     baseline  481.484448  405.965007  283.582387      23.3\n",
       "1  condition_a  759.387950  634.627644  476.263170      23.3\n",
       "2  condition_b  452.634481  372.003101  301.176629      23.3"
      ]
     },
     "execution_count": 9,
     "metadata": {},
     "output_type": "execute_result"
    }
   ],
   "source": [
    "# reset the index (we've seen this before)\n",
    "summary.reset_index(inplace=True)\n",
    "summary"
   ]
  },
  {
   "cell_type": "markdown",
   "metadata": {},
   "source": [
    "#### Plot the results\n",
    "Now we can use seaborn to plot the results:"
   ]
  },
  {
   "cell_type": "code",
   "execution_count": 33,
   "metadata": {},
   "outputs": [
    {
     "data": {
      "image/png": "[encoded data removed]",
      "text/plain": [
       "<Figure size 432x288 with 1 Axes>"
      ]
     },
     "metadata": {},
     "output_type": "display_data"
    }
   ],
   "source": [
    "# as we've seen in session 5:\n",
    "sns.set_style('whitegrid')\n",
    "sns.boxplot(x='condition', y='RT', data=trials)\n",
    "plt.show()"
   ]
  },
  {
   "cell_type": "markdown",
   "metadata": {},
   "source": [
    "<font color='green'>**Exercise 3:**</font> Try to make a violinplot of the data"
   ]
  },
  {
   "cell_type": "code",
   "execution_count": 32,
   "metadata": {},
   "outputs": [
    {
     "data": {
      "image/png": "[encoded data removed]",
      "text/plain": [
       "<Figure size 432x288 with 1 Axes>"
      ]
     },
     "metadata": {},
     "output_type": "display_data"
    }
   ],
   "source": [
    "### your code here\n",
    "sns.set_style('whitegrid')\n",
    "sns.violinplot(x='condition', y='RT', data=trials)\n",
    "plt.show()\n"
   ]
  },
  {
   "cell_type": "markdown",
   "metadata": {},
   "source": [
    "\n",
    "If we compare these plots to the ones we made in session 5, it seems that our NaN values are dealt with appropriately (the plots are the same). Good to know: using Pandas's groupby-function handles your NaN-values for you. However, if you just want to get some means...\n"
   ]
  },
  {
   "cell_type": "code",
   "execution_count": 12,
   "metadata": {},
   "outputs": [
    {
     "name": "stdout",
     "output_type": "stream",
     "text": [
      "nan 565.4689472669515\n"
     ]
    }
   ],
   "source": [
    "python_stats = statistics.mean(trials_NA[\"RT\"])\n",
    "numpy_stats = np.mean(trials_NA[\"RT\"])\n",
    "\n",
    "print(python_stats, numpy_stats)"
   ]
  },
  {
   "cell_type": "markdown",
   "metadata": {},
   "source": [
    "So when you start working with a new package or module, it is useful to first check how it deals with missing values. If you want to use python statistics, you should remove your NaN-values before computing your descriptive statistics. Fortunately there is a useful function for that: the Pandas `.dropna` function.\n"
   ]
  },
  {
   "cell_type": "code",
   "execution_count": 13,
   "metadata": {},
   "outputs": [],
   "source": [
    "trials_dropna = trials_NA.dropna()"
   ]
  },
  {
   "cell_type": "markdown",
   "metadata": {},
   "source": [
    "<font color='green'>**Exercise 4:**</font> print the mean RT of our new `trials_dropna` "
   ]
  },
  {
   "cell_type": "code",
   "execution_count": 15,
   "metadata": {},
   "outputs": [
    {
     "name": "stdout",
     "output_type": "stream",
     "text": [
      "565.4689472669517\n"
     ]
    }
   ],
   "source": [
    "meanRT_dropna = statistics.mean(trials_dropna['RT'])\n",
    "print(meanRT_dropna)"
   ]
  },
  {
   "cell_type": "markdown",
   "metadata": {},
   "source": [
    "<font color='green'>**Exercise 5:**</font> What is the mean age of our participants?"
   ]
  },
  {
   "cell_type": "code",
   "execution_count": 17,
   "metadata": {},
   "outputs": [
    {
     "name": "stdout",
     "output_type": "stream",
     "text": [
      "23.313157894736843\n"
     ]
    }
   ],
   "source": [
    "mean_age = statistics.mean(trials_dropna['age'])\n",
    "print(mean_age)"
   ]
  },
  {
   "cell_type": "markdown",
   "metadata": {},
   "source": [
    "## 2. Testing assumptions\n",
    "\n",
    "Let's say we'd like to perform a t-test. Then we first need to check the assumptions: \n",
    "\n",
    "1. Scale of measurement: ordinal or continuous scale\n",
    "2. Simple random sample & reasonable sample size\n",
    "3. Normal distribution of dependent variables\n",
    "4. Homogeneity of variance\n",
    "\n",
    "\n",
    "#### 2.1 Normal distribution\n",
    "\n",
    "Graphical methods: Plotting & evaluating\n",
    "\n",
    "\n"
   ]
  },
  {
   "cell_type": "code",
   "execution_count": 31,
   "metadata": {},
   "outputs": [
    {
     "data": {
      "text/plain": [
       "<AxesSubplot:xlabel='RT', ylabel='Count'>"
      ]
     },
     "execution_count": 31,
     "metadata": {},
     "output_type": "execute_result"
    },
    {
     "data": {
      "image/png": "[encoded data removed]",
      "text/plain": [
       "<Figure size 432x288 with 1 Axes>"
      ]
     },
     "metadata": {},
     "output_type": "display_data"
    }
   ],
   "source": [
    "# Use Seaborn for a simple histogram\n",
    "sns.set_style('whitegrid')\n",
    "sns.histplot(trials, x=\"RT\", hue=\"condition\")"
   ]
  },
  {
   "cell_type": "markdown",
   "metadata": {},
   "source": [
    "Hmm.. this is not a normal distribution; it is skewed and can be best described by an exponential. But wait - the means have to be normally distributed!\n"
   ]
  },
  {
   "cell_type": "code",
   "execution_count": 19,
   "metadata": {},
   "outputs": [
    {
     "data": {
      "text/html": [
       "<div>\n",
       "<style scoped>\n",
       "    .dataframe tbody tr th:only-of-type {\n",
       "        vertical-align: middle;\n",
       "    }\n",
       "\n",
       "    .dataframe tbody tr th {\n",
       "        vertical-align: top;\n",
       "    }\n",
       "\n",
       "    .dataframe thead th {\n",
       "        text-align: right;\n",
       "    }\n",
       "</style>\n",
       "<table border=\"1\" class=\"dataframe\">\n",
       "  <thead>\n",
       "    <tr style=\"text-align: right;\">\n",
       "      <th></th>\n",
       "      <th>id</th>\n",
       "      <th>condition</th>\n",
       "      <th>mean_RT</th>\n",
       "      <th>std_RT</th>\n",
       "    </tr>\n",
       "  </thead>\n",
       "  <tbody>\n",
       "    <tr>\n",
       "      <th>0</th>\n",
       "      <td>24639</td>\n",
       "      <td>baseline</td>\n",
       "      <td>523.639055</td>\n",
       "      <td>319.469700</td>\n",
       "    </tr>\n",
       "    <tr>\n",
       "      <th>1</th>\n",
       "      <td>24639</td>\n",
       "      <td>condition_a</td>\n",
       "      <td>916.551797</td>\n",
       "      <td>545.207917</td>\n",
       "    </tr>\n",
       "    <tr>\n",
       "      <th>2</th>\n",
       "      <td>24639</td>\n",
       "      <td>condition_b</td>\n",
       "      <td>460.798286</td>\n",
       "      <td>236.760201</td>\n",
       "    </tr>\n",
       "    <tr>\n",
       "      <th>3</th>\n",
       "      <td>37321</td>\n",
       "      <td>baseline</td>\n",
       "      <td>424.567080</td>\n",
       "      <td>215.411905</td>\n",
       "    </tr>\n",
       "    <tr>\n",
       "      <th>4</th>\n",
       "      <td>37321</td>\n",
       "      <td>condition_a</td>\n",
       "      <td>603.750397</td>\n",
       "      <td>270.696958</td>\n",
       "    </tr>\n",
       "  </tbody>\n",
       "</table>\n",
       "</div>"
      ],
      "text/plain": [
       "      id    condition     mean_RT      std_RT\n",
       "0  24639     baseline  523.639055  319.469700\n",
       "1  24639  condition_a  916.551797  545.207917\n",
       "2  24639  condition_b  460.798286  236.760201\n",
       "3  37321     baseline  424.567080  215.411905\n",
       "4  37321  condition_a  603.750397  270.696958"
      ]
     },
     "execution_count": 19,
     "metadata": {},
     "output_type": "execute_result"
    }
   ],
   "source": [
    "pmeans = trials.groupby(by=['id', 'condition']).aggregate(\n",
    "    mean_RT=pd.NamedAgg('RT', np.mean),\n",
    "    std_RT=pd.NamedAgg('RT', np.std))\n",
    "\n",
    "pmeans.reset_index(inplace=True)\n",
    "pmeans.head(5)"
   ]
  },
  {
   "cell_type": "code",
   "execution_count": 29,
   "metadata": {},
   "outputs": [
    {
     "data": {
      "image/png": "[encoded data removed]",
      "text/plain": [
       "<Figure size 432x288 with 1 Axes>"
      ]
     },
     "metadata": {},
     "output_type": "display_data"
    }
   ],
   "source": [
    "sns.set_style('whitegrid')\n",
    "ax = sns.histplot(pmeans, x=\"mean_RT\", hue=\"condition\", kde=False)"
   ]
  },
  {
   "cell_type": "markdown",
   "metadata": {},
   "source": [
    "<font color='green'>**Exercise 5:**</font> Try to plot the histogram with more bins (e.g. 20)"
   ]
  },
  {
   "cell_type": "code",
   "execution_count": 30,
   "metadata": {},
   "outputs": [
    {
     "data": {
      "image/png": "[encoded data removed]",
      "text/plain": [
       "<Figure size 432x288 with 1 Axes>"
      ]
     },
     "metadata": {},
     "output_type": "display_data"
    }
   ],
   "source": [
    "### your code here\n",
    "sns.set_style('whitegrid')\n",
    "ax_bin20 = sns.histplot(pmeans, x=\"mean_RT\", hue=\"condition\", kde=False, bins=20)"
   ]
  },
  {
   "cell_type": "markdown",
   "metadata": {},
   "source": [
    "OK, another plot. Scipy.stats.probplot generates a probability plot of sample data against the quantiles of a specified theoretical distribution (the normal distribution by default). Probplot optionally calculates a best-fit line for the data:\n"
   ]
  },
  {
   "cell_type": "code",
   "execution_count": 26,
   "metadata": {},
   "outputs": [
    {
     "data": {
      "image/png": "[encoded data removed]",
      "text/plain": [
       "<Figure size 432x288 with 1 Axes>"
      ]
     },
     "metadata": {
      "needs_background": "light"
     },
     "output_type": "display_data"
    },
    {
     "data": {
      "image/png": "[encoded data removed]",
      "text/plain": [
       "<Figure size 432x288 with 1 Axes>"
      ]
     },
     "metadata": {
      "needs_background": "light"
     },
     "output_type": "display_data"
    },
    {
     "data": {
      "image/png": "[encoded data removed]",
      "text/plain": [
       "<Figure size 432x288 with 1 Axes>"
      ]
     },
     "metadata": {
      "needs_background": "light"
     },
     "output_type": "display_data"
    }
   ],
   "source": [
    "\n",
    "for cond in ['baseline', 'condition_a', 'condition_b']:\n",
    "    plot = stats.probplot(pmeans.loc[pmeans['condition']==cond, 'mean_RT'], plot=plt)\n",
    "    plt.title(str(cond))\n",
    "    plt.show()"
   ]
  },
  {
   "cell_type": "markdown",
   "metadata": {},
   "source": [
    "<font color='purple'>**To think:**</font> Why can we just use `stats.probplot`? Don't we need to indicate that we want to use SciPy?"
   ]
  },
  {
   "cell_type": "markdown",
   "metadata": {},
   "source": [
    "Looking at these plots can be confusing. Let's try a statistical test: the Shapiro-Wilk test for normality.\n",
    "Important to keep in mind: The Shapiro-Wilk test (or another test, Kolmogorov-Smirnov) is too sensitive when sample sizes are large.\n"
   ]
  },
  {
   "cell_type": "code",
   "execution_count": 27,
   "metadata": {},
   "outputs": [
    {
     "data": {
      "text/html": [
       "<div>\n",
       "<style scoped>\n",
       "    .dataframe tbody tr th:only-of-type {\n",
       "        vertical-align: middle;\n",
       "    }\n",
       "\n",
       "    .dataframe tbody tr th {\n",
       "        vertical-align: top;\n",
       "    }\n",
       "\n",
       "    .dataframe thead th {\n",
       "        text-align: right;\n",
       "    }\n",
       "</style>\n",
       "<table border=\"1\" class=\"dataframe\">\n",
       "  <thead>\n",
       "    <tr style=\"text-align: right;\">\n",
       "      <th></th>\n",
       "      <th>id</th>\n",
       "      <th>mean_RT</th>\n",
       "      <th>std_RT</th>\n",
       "    </tr>\n",
       "    <tr>\n",
       "      <th>condition</th>\n",
       "      <th></th>\n",
       "      <th></th>\n",
       "      <th></th>\n",
       "    </tr>\n",
       "  </thead>\n",
       "  <tbody>\n",
       "    <tr>\n",
       "      <th>baseline</th>\n",
       "      <td>(0.8744595646858215, 0.11263620108366013)</td>\n",
       "      <td>(0.6203631162643433, 9.681241499492899e-05)</td>\n",
       "      <td>(0.8636189699172974, 0.08417269587516785)</td>\n",
       "    </tr>\n",
       "    <tr>\n",
       "      <th>condition_a</th>\n",
       "      <td>(0.8744595646858215, 0.11263620108366013)</td>\n",
       "      <td>(0.8505376577377319, 0.05895113945007324)</td>\n",
       "      <td>(0.9184720516204834, 0.3443877696990967)</td>\n",
       "    </tr>\n",
       "    <tr>\n",
       "      <th>condition_b</th>\n",
       "      <td>(0.8744595646858215, 0.11263620108366013)</td>\n",
       "      <td>(0.6019946336746216, 5.8417390391696244e-05)</td>\n",
       "      <td>(0.719670832157135, 0.001526094158180058)</td>\n",
       "    </tr>\n",
       "  </tbody>\n",
       "</table>\n",
       "</div>"
      ],
      "text/plain": [
       "                                                    id  \\\n",
       "condition                                                \n",
       "baseline     (0.8744595646858215, 0.11263620108366013)   \n",
       "condition_a  (0.8744595646858215, 0.11263620108366013)   \n",
       "condition_b  (0.8744595646858215, 0.11263620108366013)   \n",
       "\n",
       "                                                  mean_RT  \\\n",
       "condition                                                   \n",
       "baseline      (0.6203631162643433, 9.681241499492899e-05)   \n",
       "condition_a     (0.8505376577377319, 0.05895113945007324)   \n",
       "condition_b  (0.6019946336746216, 5.8417390391696244e-05)   \n",
       "\n",
       "                                                std_RT  \n",
       "condition                                               \n",
       "baseline     (0.8636189699172974, 0.08417269587516785)  \n",
       "condition_a   (0.9184720516204834, 0.3443877696990967)  \n",
       "condition_b  (0.719670832157135, 0.001526094158180058)  "
      ]
     },
     "execution_count": 27,
     "metadata": {},
     "output_type": "execute_result"
    }
   ],
   "source": [
    "# Simple shapiro test:\n",
    "pmeans.groupby('condition').aggregate(stats.shapiro)"
   ]
  },
  {
   "cell_type": "code",
   "execution_count": 28,
   "metadata": {},
   "outputs": [
    {
     "data": {
      "text/html": [
       "<div>\n",
       "<style scoped>\n",
       "    .dataframe tbody tr th:only-of-type {\n",
       "        vertical-align: middle;\n",
       "    }\n",
       "\n",
       "    .dataframe tbody tr th {\n",
       "        vertical-align: top;\n",
       "    }\n",
       "\n",
       "    .dataframe thead th {\n",
       "        text-align: right;\n",
       "    }\n",
       "</style>\n",
       "<table border=\"1\" class=\"dataframe\">\n",
       "  <thead>\n",
       "    <tr style=\"text-align: right;\">\n",
       "      <th></th>\n",
       "      <th>condition</th>\n",
       "      <th>shapiro</th>\n",
       "    </tr>\n",
       "  </thead>\n",
       "  <tbody>\n",
       "    <tr>\n",
       "      <th>0</th>\n",
       "      <td>baseline</td>\n",
       "      <td>(0.6203631162643433, 9.681241499492899e-05)</td>\n",
       "    </tr>\n",
       "    <tr>\n",
       "      <th>1</th>\n",
       "      <td>condition_a</td>\n",
       "      <td>(0.8505376577377319, 0.05895113945007324)</td>\n",
       "    </tr>\n",
       "    <tr>\n",
       "      <th>2</th>\n",
       "      <td>condition_b</td>\n",
       "      <td>(0.6019946336746216, 5.8417390391696244e-05)</td>\n",
       "    </tr>\n",
       "  </tbody>\n",
       "</table>\n",
       "</div>"
      ],
      "text/plain": [
       "     condition                                       shapiro\n",
       "0     baseline   (0.6203631162643433, 9.681241499492899e-05)\n",
       "1  condition_a     (0.8505376577377319, 0.05895113945007324)\n",
       "2  condition_b  (0.6019946336746216, 5.8417390391696244e-05)"
      ]
     },
     "execution_count": 28,
     "metadata": {},
     "output_type": "execute_result"
    }
   ],
   "source": [
    "shapiro_results = pmeans.groupby(by='condition').aggregate(\n",
    "    shapiro=pd.NamedAgg('mean_RT',stats.shapiro))\n",
    "\n",
    "shapiro_results.reset_index(inplace=True)\n",
    "shapiro_results\n",
    "\n",
    "#sharpio output format: (statistics, p-value)\n",
    "# The results suggest that the sample data do not come from a normal distribution."
   ]
  },
  {
   "cell_type": "markdown",
   "metadata": {},
   "source": [
    "<font color='green'>**Exercise 6:**</font> Look at the results (and the online documentation on the test). What do you conclude?"
   ]
  },
  {
   "cell_type": "markdown",
   "metadata": {},
   "source": [
    "## 3. Performing a T-test using SciPy\n",
    "\n",
    "Okay, time to perform our first t-test to see if there are differences between our `condition_a` and the `baseline`. \n",
    "For this, we can use [scipy.stats.ttest_rel](https://docs.scipy.org/doc/scipy/reference/generated/scipy.stats.ttest_rel.html):"
   ]
  },
  {
   "cell_type": "code",
   "execution_count": 34,
   "metadata": {},
   "outputs": [
    {
     "data": {
      "text/plain": [
       "Ttest_relResult(statistic=-10.9576963613722, pvalue=1.3239836124062162e-24)"
      ]
     },
     "execution_count": 34,
     "metadata": {},
     "output_type": "execute_result"
    }
   ],
   "source": [
    "base = trials.loc[trials['condition']=='baseline', 'RT']\n",
    "a = trials.loc[trials['condition']=='condition_a', 'RT']\n",
    "\n",
    "stats.ttest_rel(base,a, nan_policy='raise')"
   ]
  },
  {
   "cell_type": "markdown",
   "metadata": {},
   "source": [
    "Okay! So condition a seems very different from the baseline. \n",
    "\n",
    "<font color='green'>**Exercise 7:**</font> Write a for loop that performs a t-test for both our conditions and prints the result:\n"
   ]
  },
  {
   "cell_type": "code",
   "execution_count": 42,
   "metadata": {},
   "outputs": [
    {
     "name": "stdout",
     "output_type": "stream",
     "text": [
      "Ttest_relResult(statistic=-10.9576963613722, pvalue=1.3239836124062162e-24)\n",
      "Ttest_relResult(statistic=1.5860581787217043, pvalue=0.11351827606570154)\n"
     ]
    }
   ],
   "source": [
    "## your code here\n",
    "base = trials.loc[trials['condition']=='baseline', 'RT']\n",
    "\n",
    "for cond in ['condition_a', 'condition_b']:\n",
    "    condition = trials.loc[trials['condition']==cond, 'RT']\n",
    "    print(stats.ttest_rel(base, condition, nan_policy='raise'))\n",
    "\n"
   ]
  },
  {
   "cell_type": "markdown",
   "metadata": {},
   "source": [
    "Now - do the conditions differ from each other?\n",
    "\n",
    "<font color='green'>**Exercise 8:**</font> Perform a t-test to compare condition a and condition b: "
   ]
  },
  {
   "cell_type": "code",
   "execution_count": 43,
   "metadata": {},
   "outputs": [
    {
     "data": {
      "text/plain": [
       "Ttest_relResult(statistic=12.205167485188877, pvalue=2.4767918471337012e-29)"
      ]
     },
     "execution_count": 43,
     "metadata": {},
     "output_type": "execute_result"
    }
   ],
   "source": [
    "## your code here\n",
    "cond_a = trials.loc[trials['condition']=='condition_a', 'RT']\n",
    "cond_b = trials.loc[trials['condition']=='condition_b', 'RT']\n",
    "\n",
    "stats.ttest_rel(cond_a, cond_b, nan_policy='raise')"
   ]
  },
  {
   "cell_type": "markdown",
   "metadata": {},
   "source": [
    "Of course, we should correct for multiple comparisons here. We can do this, but it would be better to use a repeated measures ANOVA. For this, we need the package Statsmodels.\n",
    "\n",
    "## 4. Anova and LMM using Statsmodels\n",
    "\n",
    "statsmodels is a Python module that provides classes and functions for the estimation of many different statistical models, as well as for conducting statistical tests, and statistical data exploration. An extensive list of result statistics are available for each estimator. The results are tested against existing statistical packages to ensure that they are correct.  The online documentation is hosted at [statsmodels.org](statsmodels.org).\n",
    "\n",
    "#### Repeated Measures ANOVA\n",
    "\n"
   ]
  },
  {
   "cell_type": "code",
   "execution_count": 44,
   "metadata": {},
   "outputs": [],
   "source": [
    "import statsmodels.api as sm\n",
    "from statsmodels.stats.anova import AnovaRM"
   ]
  },
  {
   "cell_type": "markdown",
   "metadata": {},
   "source": [
    "In the Statsmodels ANOVA example below we use our dataframe object, `trial`, as the first argument, followed by our dependent variable `RT`, subject identifier `id`, and the list of the independent variable, `condition`. At the end, we are getting the fit so that we can print the ANOVA table."
   ]
  },
  {
   "cell_type": "code",
   "execution_count": 45,
   "metadata": {},
   "outputs": [
    {
     "name": "stdout",
     "output_type": "stream",
     "text": [
      "                 Anova\n",
      "========================================\n",
      "          F Value  Num DF  Den DF Pr > F\n",
      "----------------------------------------\n",
      "condition 133.4263 2.0000 18.0000 0.0000\n",
      "========================================\n",
      "\n"
     ]
    }
   ],
   "source": [
    "aov = AnovaRM(\n",
    "    trials,\n",
    "    depvar='RT',\n",
    "    subject='id',\n",
    "    within=['condition'],\n",
    "    aggregate_func='mean'\n",
    ").fit()\n",
    "\n",
    "print(aov)"
   ]
  },
  {
   "cell_type": "markdown",
   "metadata": {},
   "source": [
    "#### Linear Mixed Models\n",
    "\n",
    "In the early days, linear mixed models were not available in Python and one had save the data from Python, open up the data in R and run the model. Over the years, R & Python got to know each other a little better and several options have emerged for running LMM analyses in Python. Today we will use Statsmodels: \n",
    "\n",
    "https://www.statsmodels.org/stable/mixed_linear.html\n",
    "\n",
    "The statsmodels imputation of linear mixed models (MixedLM) closely follows the approach outlined in Lindstrom and Bates (JASA 1988). This is also the approach followed in the R package LME4. Other packages such as Stata, SAS, etc. should also be consistent with this approach, as the basic techniques in this area are mostly mature.\n",
    "\n",
    "Here we show how linear mixed models can be fit using the MixedLM procedure in statsmodels:\n",
    "\n",
    "- Formula to specify the model. Here: RT ~ condition\n",
    "- Data for the model. Here: trials\n",
    "- Re_formula: one-sided formula defining the variance structure of the model (Default = random intercept for each group). Here: 1\n",
    "- Groups: random intercept\n",
    "\n"
   ]
  },
  {
   "cell_type": "markdown",
   "metadata": {},
   "source": [
    "The outcome variable is the RT, and the only predictor variable we will use here is “condition”. First we fit a model that expresses the mean RT as a function of condition, with a random intercept for each participant. The model is specified using formulas. Since the random effects structure is not specified, the default random effects structure (a random intercept for each group) is automatically used:"
   ]
  },
  {
   "cell_type": "code",
   "execution_count": 48,
   "metadata": {},
   "outputs": [
    {
     "name": "stdout",
     "output_type": "stream",
     "text": [
      "                 Mixed Linear Model Regression Results\n",
      "========================================================================\n",
      "Model:                 MixedLM      Dependent Variable:      RT         \n",
      "No. Observations:      1200         Method:                  REML       \n",
      "No. Groups:            10           Scale:                   111885.7503\n",
      "Min. group size:       120          Log-Likelihood:          -8679.7654 \n",
      "Max. group size:       120          Converged:               Yes        \n",
      "Mean group size:       120.0                                            \n",
      "------------------------------------------------------------------------\n",
      "                           Coef.   Std.Err.   z    P>|z|  [0.025  0.975]\n",
      "------------------------------------------------------------------------\n",
      "Intercept                  481.484   50.806  9.477 0.000 381.906 581.063\n",
      "condition[T.condition_a]   277.904   23.652 11.750 0.000 231.546 324.261\n",
      "condition[T.condition_b]   -28.850   23.652 -1.220 0.223 -75.208  17.508\n",
      "id Var                   23015.503   33.879                             \n",
      "========================================================================\n",
      "\n"
     ]
    }
   ],
   "source": [
    "import statsmodels.formula.api as smf\n",
    "\n",
    "lmm0 = smf.mixedlm(\"RT ~ condition\", trials, groups = 'id', re_formula='1')\n",
    "lmm0f = lmm0.fit()\n",
    "print(lmm0f.summary())"
   ]
  },
  {
   "cell_type": "markdown",
   "metadata": {},
   "source": [
    "We can add more predictor variables by editing our formula: "
   ]
  },
  {
   "cell_type": "code",
   "execution_count": 49,
   "metadata": {},
   "outputs": [
    {
     "name": "stdout",
     "output_type": "stream",
     "text": [
      "                  Mixed Linear Model Regression Results\n",
      "==========================================================================\n",
      "Model:                   MixedLM      Dependent Variable:      RT         \n",
      "No. Observations:        1200         Method:                  REML       \n",
      "No. Groups:              10           Scale:                   111885.7429\n",
      "Min. group size:         120          Log-Likelihood:          -8676.3073 \n",
      "Max. group size:         120          Converged:               Yes        \n",
      "Mean group size:         120.0                                            \n",
      "--------------------------------------------------------------------------\n",
      "                           Coef.   Std.Err.   z    P>|z|  [0.025   0.975] \n",
      "--------------------------------------------------------------------------\n",
      "Intercept                  447.344  306.739  1.458 0.145 -153.852 1048.541\n",
      "condition[T.condition_a]   277.904   23.652 11.750 0.000  231.546  324.261\n",
      "condition[T.condition_b]   -28.850   23.652 -1.220 0.223  -75.208   17.508\n",
      "age                          1.465   12.962  0.113 0.910  -23.940   26.870\n",
      "id Var                   25966.388   40.345                               \n",
      "==========================================================================\n",
      "\n"
     ]
    }
   ],
   "source": [
    "lmm1 = smf.mixedlm(\"RT ~ condition + age\", trials, groups = 'id', re_formula='1')\n",
    "lmm1f = lmm1.fit()\n",
    "print(lmm1f.summary())"
   ]
  },
  {
   "cell_type": "code",
   "execution_count": 50,
   "metadata": {},
   "outputs": [
    {
     "name": "stdout",
     "output_type": "stream",
     "text": [
      "                    Mixed Linear Model Regression Results\n",
      "==============================================================================\n",
      "Model:                   MixedLM        Dependent Variable:        RT         \n",
      "No. Observations:        1200           Method:                    REML       \n",
      "No. Groups:              10             Scale:                     111960.8365\n",
      "Min. group size:         120            Log-Likelihood:            -8670.4574 \n",
      "Max. group size:         120            Converged:                 Yes        \n",
      "Mean group size:         120.0                                                \n",
      "------------------------------------------------------------------------------\n",
      "                               Coef.   Std.Err.   z    P>|z|  [0.025   0.975] \n",
      "------------------------------------------------------------------------------\n",
      "Intercept                      420.276  316.885  1.326 0.185 -200.807 1041.360\n",
      "condition[T.condition_a]       390.342  139.794  2.792 0.005  116.350  664.333\n",
      "condition[T.condition_b]       -60.085  139.794 -0.430 0.667 -334.076  213.907\n",
      "age                              2.627   13.404  0.196 0.845  -23.644   28.898\n",
      "condition[T.condition_a]:age    -4.826    5.913 -0.816 0.414  -16.415    6.764\n",
      "condition[T.condition_b]:age     1.341    5.913  0.227 0.821  -10.249   12.930\n",
      "id Var                       25965.749   40.332                               \n",
      "==============================================================================\n",
      "\n"
     ]
    }
   ],
   "source": [
    "lmm2 = smf.mixedlm(\"RT ~ condition + age + condition * age\", trials, groups = 'id', re_formula='1')\n",
    "lmm2f = lmm2.fit()\n",
    "print(lmm2f.summary())"
   ]
  },
  {
   "cell_type": "code",
   "execution_count": 51,
   "metadata": {},
   "outputs": [
    {
     "name": "stdout",
     "output_type": "stream",
     "text": [
      "                    Mixed Linear Model Regression Results\n",
      "==============================================================================\n",
      "Model:                   MixedLM        Dependent Variable:        RT         \n",
      "No. Observations:        1200           Method:                    REML       \n",
      "No. Groups:              10             Scale:                     111960.8365\n",
      "Min. group size:         120            Log-Likelihood:            -8670.4574 \n",
      "Max. group size:         120            Converged:                 Yes        \n",
      "Mean group size:         120.0                                                \n",
      "------------------------------------------------------------------------------\n",
      "                               Coef.   Std.Err.   z    P>|z|  [0.025   0.975] \n",
      "------------------------------------------------------------------------------\n",
      "Intercept                      420.276  316.885  1.326 0.185 -200.807 1041.360\n",
      "condition[T.condition_a]       390.342  139.794  2.792 0.005  116.350  664.333\n",
      "condition[T.condition_b]       -60.085  139.794 -0.430 0.667 -334.076  213.907\n",
      "age                              2.627   13.404  0.196 0.845  -23.644   28.898\n",
      "condition[T.condition_a]:age    -4.826    5.913 -0.816 0.414  -16.415    6.764\n",
      "condition[T.condition_b]:age     1.341    5.913  0.227 0.821  -10.249   12.930\n",
      "id Var                       25965.749   40.332                               \n",
      "==============================================================================\n",
      "\n"
     ]
    }
   ],
   "source": [
    "lmm3 = smf.mixedlm(\"RT ~ condition + condition * age\", trials, groups = 'id', re_formula='1')\n",
    "lmm3f = lmm3.fit()\n",
    "print(lmm3f.summary())\n",
    "\n"
   ]
  },
  {
   "cell_type": "markdown",
   "metadata": {},
   "source": [
    "<font color='pink'>**Homework exercise**</font>\n",
    "\n",
    "This is our final session. After today, you know how to work with Python on your own laptop, to work with GIT for code organisation (and version control), to use Python's built-in data types, functions and modules to solve tasks like renaming files or generating random lists of experimental stimuli. On top of all that, you know how to use external packages (and more importantly to solve weird annoying errors installing external packages), program a simple experiment and how to import, process and analyze experimental data. \n",
    "\n",
    "Now let's put that into practice! For this final homework assignment we like you to read in a dataset of choice. We ask you to create an analysis-notebook, that should contain at least:\n",
    "\n",
    "- A nice introduction at the top, explaining what you did (in a Markdown cell)\n",
    "- A table summarizing your data\n",
    "- A plot of your contrast of interest\n",
    "- A statistical test to determine its significance\n",
    "- In between: text boxes in markdown describing what you are doing\n",
    "\n",
    "We like you to do this in a completely new, fresh notebook.\n",
    "\n",
    "\n",
    "Here we'd also like to thank you for your great efforts (and for not getting mad when we encountered so many installation errors). We really had a great time and hope you learned something useful :) . "
   ]
  },
  {
   "cell_type": "code",
   "execution_count": null,
   "metadata": {},
   "outputs": [],
   "source": []
  },
  {
   "cell_type": "code",
   "execution_count": null,
   "metadata": {},
   "outputs": [],
   "source": []
  },
  {
   "cell_type": "code",
   "execution_count": null,
   "metadata": {},
   "outputs": [],
   "source": []
  },
  {
   "cell_type": "code",
   "execution_count": null,
   "metadata": {},
   "outputs": [],
   "source": []
  },
  {
   "cell_type": "code",
   "execution_count": null,
   "metadata": {},
   "outputs": [],
   "source": []
  },
  {
   "cell_type": "code",
   "execution_count": null,
   "metadata": {},
   "outputs": [],
   "source": []
  },
  {
   "cell_type": "code",
   "execution_count": null,
   "metadata": {},
   "outputs": [],
   "source": []
  },
  {
   "cell_type": "code",
   "execution_count": null,
   "metadata": {},
   "outputs": [],
   "source": []
  }
 ],
 "metadata": {
  "interpreter": {
   "hash": "aee8b7b246df8f9039afb4144a1f6fd8d2ca17a180786b69acc140d282b71a49"
  },
  "kernelspec": {
   "display_name": "Python 3.9.12 64-bit",
   "language": "python",
   "name": "python3"
  },
  "language_info": {
   "codemirror_mode": {
    "name": "ipython",
    "version": 3
   },
   "file_extension": ".py",
   "mimetype": "text/x-python",
   "name": "python",
   "nbconvert_exporter": "python",
   "pygments_lexer": "ipython3",
   "version": "3.9.12"
  }
 },
 "nbformat": 4,
 "nbformat_minor": 4
}
